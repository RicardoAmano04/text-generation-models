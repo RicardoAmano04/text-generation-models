{
 "cells": [
  {
   "cell_type": "markdown",
   "id": "eaacc7d0",
   "metadata": {},
   "source": [
    "# Text Models with Transformers\n",
    "\n",
    "This notebook demonstrates how to work with modern text models using the Transformers library. We'll cover:\n",
    "\n",
    "1. Loading and using tokenizers\n",
    "2. Understanding token IDs and decoding\n",
    "3. Working with language models\n",
    "4. Text generation with different parameters\n",
    "\n",
    "Let's get started!"
   ]
  },
  {
   "cell_type": "code",
   "execution_count": null,
   "id": "2768b8dd",
   "metadata": {},
   "outputs": [],
   "source": [
    "from transformers import AutoTokenizer\n",
    "\n",
    "prompt = \"It was a dark and stormy\"\n",
    "tokenizer = AutoTokenizer.from_pretrained(\"Qwen/Qwen2-0.5B\")\n",
    "input_ids = tokenizer(prompt).input_ids\n",
    "print(input_ids)"
   ]
  },
  {
   "cell_type": "code",
   "execution_count": null,
   "id": "90f92594",
   "metadata": {},
   "outputs": [],
   "source": [
    "# Let's look at each token individually\n",
    "for t in input_ids:\n",
    "    print(t, \"\\t:\", tokenizer.decode(t))"
   ]
  },
  {
   "cell_type": "code",
   "execution_count": null,
   "id": "e1159958",
   "metadata": {},
   "outputs": [],
   "source": [
    "from transformers import AutoModelForCausalLM\n",
    "\n",
    "model = AutoModelForCausalLM.from_pretrained(\"Qwen/Qwen2-0.5B\")"
   ]
  },
  {
   "cell_type": "code",
   "execution_count": null,
   "id": "2f09bd42",
   "metadata": {},
   "outputs": [],
   "source": [
    "# Convert input to tensor format\n",
    "input_ids = tokenizer(prompt, return_tensors=\"pt\").input_ids\n",
    "\n",
    "# Get model outputs\n",
    "outputs = model(input_ids)\n",
    "outputs.logits.shape  # (batch_size, sequence_length, vocab_size)"
   ]
  },
  {
   "cell_type": "code",
   "execution_count": null,
   "id": "dcb599cb",
   "metadata": {},
   "outputs": [],
   "source": [
    "# Get the most likely next token\n",
    "final_logits = model(input_ids).logits[0, -1]\n",
    "final_logits.argmax()\n",
    "\n",
    "# Decode the predicted token\n",
    "print(\"Most likely next token:\", tokenizer.decode(final_logits.argmax()))"
   ]
  },
  {
   "cell_type": "code",
   "execution_count": null,
   "id": "62d1a814",
   "metadata": {},
   "outputs": [],
   "source": [
    "import torch\n",
    "\n",
    "# Get top 10 most likely next tokens\n",
    "top10_logits = torch.topk(final_logits, 10)\n",
    "print(\"\\nTop 10 most likely next tokens:\")\n",
    "for index in top10_logits.indices:\n",
    "    print(tokenizer.decode(index))"
   ]
  },
  {
   "cell_type": "code",
   "execution_count": null,
   "id": "573bfa40",
   "metadata": {},
   "outputs": [],
   "source": [
    "# Generate text with different sampling parameters\n",
    "print(\"\\nBasic generation:\")\n",
    "output_ids = model.generate(input_ids, max_new_tokens=20)\n",
    "print(tokenizer.decode(output_ids[0]))\n",
    "\n",
    "print(\"\\nBeam search (more focused):\")\n",
    "beam_output = model.generate(\n",
    "    input_ids,\n",
    "    num_beams=5,\n",
    "    max_new_tokens=30,\n",
    ")\n",
    "print(tokenizer.decode(beam_output[0]))\n",
    "\n",
    "print(\"\\nHigh temperature (more creative):\")\n",
    "sampling_output = model.generate(\n",
    "    input_ids,\n",
    "    do_sample=True,\n",
    "    temperature=3.0,\n",
    "    max_new_tokens=40,\n",
    "    top_k=0,\n",
    ")\n",
    "print(tokenizer.decode(sampling_output[0]))"
   ]
  },
  {
   "cell_type": "code",
   "execution_count": null,
   "id": "52c5a776",
   "metadata": {},
   "outputs": [],
   "source": [
    "import sys\n",
    "!{sys.executable} -m pip install torch transformers --upgrade"
   ]
  },
  {
   "cell_type": "markdown",
   "id": "ddab33d4",
   "metadata": {},
   "source": [
    "# Text Model Tokenization Example\n",
    "\n",
    "This notebook demonstrates how to use the Transformers library to tokenize text using the BERT model.\n",
    "\n",
    "## Setup Instructions\n",
    "1. Make sure you're using the \"Python (Text Models)\" kernel\n",
    "2. If packages are missing, run the setup cell below\n",
    "\n",
    "## What we'll do:\n",
    "1. Set up the required packages\n",
    "2. Import the AutoTokenizer\n",
    "3. Create a sample prompt\n",
    "4. Tokenize the text and get input IDs"
   ]
  },
  {
   "cell_type": "code",
   "execution_count": 2,
   "id": "653aa3c5",
   "metadata": {},
   "outputs": [
    {
     "name": "stdout",
     "output_type": "stream",
     "text": [
      "Collecting transformers\n",
      "  Using cached transformers-4.56.0-py3-none-any.whl.metadata (40 kB)\n",
      "  Using cached transformers-4.56.0-py3-none-any.whl.metadata (40 kB)\n",
      "Collecting filelock (from transformers)\n",
      "  Using cached filelock-3.19.1-py3-none-any.whl.metadata (2.1 kB)\n",
      "Collecting filelock (from transformers)\n",
      "  Using cached filelock-3.19.1-py3-none-any.whl.metadata (2.1 kB)\n",
      "Collecting huggingface-hub<1.0,>=0.34.0 (from transformers)\n",
      "  Using cached huggingface_hub-0.34.4-py3-none-any.whl.metadata (14 kB)\n",
      "Collecting huggingface-hub<1.0,>=0.34.0 (from transformers)\n",
      "  Using cached huggingface_hub-0.34.4-py3-none-any.whl.metadata (14 kB)\n",
      "Requirement already satisfied: numpy>=1.17 in /Users/ricardoamanotorres/ai_env/lib/python3.11/site-packages (from transformers) (2.3.1)\n",
      "Requirement already satisfied: packaging>=20.0 in /Users/ricardoamanotorres/ai_env/lib/python3.11/site-packages (from transformers) (25.0)\n",
      "Requirement already satisfied: pyyaml>=5.1 in /Users/ricardoamanotorres/ai_env/lib/python3.11/site-packages (from transformers) (6.0.2)\n",
      "Requirement already satisfied: numpy>=1.17 in /Users/ricardoamanotorres/ai_env/lib/python3.11/site-packages (from transformers) (2.3.1)\n",
      "Requirement already satisfied: packaging>=20.0 in /Users/ricardoamanotorres/ai_env/lib/python3.11/site-packages (from transformers) (25.0)\n",
      "Requirement already satisfied: pyyaml>=5.1 in /Users/ricardoamanotorres/ai_env/lib/python3.11/site-packages (from transformers) (6.0.2)\n",
      "Collecting regex!=2019.12.17 (from transformers)\n",
      "Collecting regex!=2019.12.17 (from transformers)\n",
      "  Downloading regex-2025.9.1-cp311-cp311-macosx_10_9_x86_64.whl.metadata (40 kB)\n",
      "  Downloading regex-2025.9.1-cp311-cp311-macosx_10_9_x86_64.whl.metadata (40 kB)\n",
      "Requirement already satisfied: requests in /Users/ricardoamanotorres/ai_env/lib/python3.11/site-packages (from transformers) (2.32.4)\n",
      "Requirement already satisfied: requests in /Users/ricardoamanotorres/ai_env/lib/python3.11/site-packages (from transformers) (2.32.4)\n",
      "Collecting tokenizers<=0.23.0,>=0.22.0 (from transformers)\n",
      "  Using cached tokenizers-0.22.0-cp39-abi3-macosx_10_12_x86_64.whl.metadata (6.8 kB)\n",
      "Collecting tokenizers<=0.23.0,>=0.22.0 (from transformers)\n",
      "  Using cached tokenizers-0.22.0-cp39-abi3-macosx_10_12_x86_64.whl.metadata (6.8 kB)\n",
      "Collecting safetensors>=0.4.3 (from transformers)\n",
      "  Using cached safetensors-0.6.2-cp38-abi3-macosx_10_12_x86_64.whl.metadata (4.1 kB)\n",
      "Collecting safetensors>=0.4.3 (from transformers)\n",
      "  Using cached safetensors-0.6.2-cp38-abi3-macosx_10_12_x86_64.whl.metadata (4.1 kB)\n",
      "Collecting tqdm>=4.27 (from transformers)\n",
      "Collecting tqdm>=4.27 (from transformers)\n",
      "  Using cached tqdm-4.67.1-py3-none-any.whl.metadata (57 kB)\n",
      "  Using cached tqdm-4.67.1-py3-none-any.whl.metadata (57 kB)\n",
      "Collecting fsspec>=2023.5.0 (from huggingface-hub<1.0,>=0.34.0->transformers)\n",
      "  Using cached fsspec-2025.9.0-py3-none-any.whl.metadata (10 kB)\n",
      "Collecting fsspec>=2023.5.0 (from huggingface-hub<1.0,>=0.34.0->transformers)\n",
      "  Using cached fsspec-2025.9.0-py3-none-any.whl.metadata (10 kB)\n",
      "Requirement already satisfied: typing-extensions>=3.7.4.3 in /Users/ricardoamanotorres/ai_env/lib/python3.11/site-packages (from huggingface-hub<1.0,>=0.34.0->transformers) (4.12.2)\n",
      "Requirement already satisfied: typing-extensions>=3.7.4.3 in /Users/ricardoamanotorres/ai_env/lib/python3.11/site-packages (from huggingface-hub<1.0,>=0.34.0->transformers) (4.12.2)\n",
      "Collecting hf-xet<2.0.0,>=1.1.3 (from huggingface-hub<1.0,>=0.34.0->transformers)\n",
      "  Using cached hf_xet-1.1.9-cp37-abi3-macosx_10_12_x86_64.whl.metadata (4.7 kB)\n",
      "Collecting hf-xet<2.0.0,>=1.1.3 (from huggingface-hub<1.0,>=0.34.0->transformers)\n",
      "  Using cached hf_xet-1.1.9-cp37-abi3-macosx_10_12_x86_64.whl.metadata (4.7 kB)\n",
      "Requirement already satisfied: charset_normalizer<4,>=2 in /Users/ricardoamanotorres/ai_env/lib/python3.11/site-packages (from requests->transformers) (3.3.2)\n",
      "Requirement already satisfied: idna<4,>=2.5 in /Users/ricardoamanotorres/ai_env/lib/python3.11/site-packages (from requests->transformers) (3.7)\n",
      "Requirement already satisfied: urllib3<3,>=1.21.1 in /Users/ricardoamanotorres/ai_env/lib/python3.11/site-packages (from requests->transformers) (2.5.0)\n",
      "Requirement already satisfied: certifi>=2017.4.17 in /Users/ricardoamanotorres/ai_env/lib/python3.11/site-packages (from requests->transformers) (2025.8.3)\n",
      "Requirement already satisfied: charset_normalizer<4,>=2 in /Users/ricardoamanotorres/ai_env/lib/python3.11/site-packages (from requests->transformers) (3.3.2)\n",
      "Requirement already satisfied: idna<4,>=2.5 in /Users/ricardoamanotorres/ai_env/lib/python3.11/site-packages (from requests->transformers) (3.7)\n",
      "Requirement already satisfied: urllib3<3,>=1.21.1 in /Users/ricardoamanotorres/ai_env/lib/python3.11/site-packages (from requests->transformers) (2.5.0)\n",
      "Requirement already satisfied: certifi>=2017.4.17 in /Users/ricardoamanotorres/ai_env/lib/python3.11/site-packages (from requests->transformers) (2025.8.3)\n",
      "Using cached transformers-4.56.0-py3-none-any.whl (11.6 MB)\n",
      "Using cached transformers-4.56.0-py3-none-any.whl (11.6 MB)\n",
      "Using cached huggingface_hub-0.34.4-py3-none-any.whl (561 kB)\n",
      "Using cached hf_xet-1.1.9-cp37-abi3-macosx_10_12_x86_64.whl (2.8 MB)\n",
      "Using cached huggingface_hub-0.34.4-py3-none-any.whl (561 kB)\n",
      "Using cached hf_xet-1.1.9-cp37-abi3-macosx_10_12_x86_64.whl (2.8 MB)\n",
      "Using cached tokenizers-0.22.0-cp39-abi3-macosx_10_12_x86_64.whl (3.1 MB)\n",
      "Using cached tokenizers-0.22.0-cp39-abi3-macosx_10_12_x86_64.whl (3.1 MB)\n",
      "Downloading fsspec-2025.9.0-py3-none-any.whl (199 kB)\n",
      "Downloading fsspec-2025.9.0-py3-none-any.whl (199 kB)\n",
      "Downloading regex-2025.9.1-cp311-cp311-macosx_10_9_x86_64.whl (288 kB)\n",
      "Downloading regex-2025.9.1-cp311-cp311-macosx_10_9_x86_64.whl (288 kB)\n",
      "Using cached safetensors-0.6.2-cp38-abi3-macosx_10_12_x86_64.whl (454 kB)\n",
      "Using cached safetensors-0.6.2-cp38-abi3-macosx_10_12_x86_64.whl (454 kB)\n",
      "Downloading tqdm-4.67.1-py3-none-any.whl (78 kB)\n",
      "Downloading tqdm-4.67.1-py3-none-any.whl (78 kB)\n",
      "Downloading filelock-3.19.1-py3-none-any.whl (15 kB)\n",
      "Downloading filelock-3.19.1-py3-none-any.whl (15 kB)\n",
      "Installing collected packages: tqdm, safetensors, regex, hf-xet, fsspec, filelock, huggingface-hub, tokenizers, transformers\n",
      "\u001b[?25lInstalling collected packages: tqdm, safetensors, regex, hf-xet, fsspec, filelock, huggingface-hub, tokenizers, transformers\n",
      "\u001b[2K   \u001b[90m━━━━━━━━━━━━━━━━━━━━━━━━━━━━━━━━━━━━━━━━\u001b[0m \u001b[32m9/9\u001b[0m [transformers][0m [transformers]ub]\n",
      "\u001b[1A\u001b[2KSuccessfully installed filelock-3.19.1 fsspec-2025.9.0 hf-xet-1.1.9 huggingface-hub-0.34.4 regex-2025.9.1 safetensors-0.6.2 tokenizers-0.22.0 tqdm-4.67.1 transformers-4.56.0\n",
      "\u001b[2K   \u001b[90m━━━━━━━━━━━━━━━━━━━━━━━━━━━━━━━━━━━━━━━━\u001b[0m \u001b[32m9/9\u001b[0m [transformers]\n",
      "\u001b[1A\u001b[2KSuccessfully installed filelock-3.19.1 fsspec-2025.9.0 hf-xet-1.1.9 huggingface-hub-0.34.4 regex-2025.9.1 safetensors-0.6.2 tokenizers-0.22.0 tqdm-4.67.1 transformers-4.56.0\n"
     ]
    }
   ],
   "source": [
    "import sys\n",
    "!{sys.executable} -m pip install transformers"
   ]
  },
  {
   "cell_type": "code",
   "execution_count": null,
   "id": "1f9324a2",
   "metadata": {},
   "outputs": [],
   "source": [
    "import torch\n",
    "import transformers\n",
    "print(f\"PyTorch version: {torch.__version__}\")\n",
    "print(f\"Transformers version: {transformers.__version__}\")\n",
    "\n",
    "# Test with a simple tokenizer\n",
    "from transformers import AutoTokenizer\n",
    "tokenizer = AutoTokenizer.from_pretrained(\"bert-base-uncased\", use_fast=False)\n",
    "result = tokenizer.encode(\"Hello, world!\")\n",
    "print(f\"Tokenized result: {result}\")"
   ]
  }
 ],
 "metadata": {
  "kernelspec": {
   "display_name": "Python 3.11 (PyTorch)",
   "language": "python",
   "name": "py311"
  },
  "language_info": {
   "codemirror_mode": {
    "name": "ipython",
    "version": 3
   },
   "file_extension": ".py",
   "mimetype": "text/x-python",
   "name": "python",
   "nbconvert_exporter": "python",
   "pygments_lexer": "ipython3",
   "version": "3.11.13"
  }
 },
 "nbformat": 4,
 "nbformat_minor": 5
}
